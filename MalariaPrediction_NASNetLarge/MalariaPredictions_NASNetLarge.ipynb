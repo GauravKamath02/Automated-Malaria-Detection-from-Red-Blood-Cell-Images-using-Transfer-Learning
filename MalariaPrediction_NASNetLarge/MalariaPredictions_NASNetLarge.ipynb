{
 "cells": [
  {
   "cell_type": "code",
   "execution_count": 1,
   "id": "a07e5972",
   "metadata": {},
   "outputs": [],
   "source": [
    "import matplotlib.pyplot as plt\n",
    "import numpy as np\n",
    "import PIL\n",
    "import tensorflow as tf\n",
    "from tensorflow.keras.layers import Dense,Flatten\n",
    "from tensorflow.keras.models import Sequential\n",
    "from tensorflow.keras.optimizers import Adam\n",
    "from tensorflow.keras.preprocessing.image import ImageDataGenerator\n",
    "from tensorflow.keras.callbacks import EarlyStopping\n",
    "import warnings\n",
    "import pandas as pd\n",
    "from sklearn.metrics import confusion_matrix, classification_report\n",
    "warnings.filterwarnings(\"ignore\")"
   ]
  },
  {
   "cell_type": "code",
   "execution_count": 2,
   "id": "174ff04c",
   "metadata": {},
   "outputs": [
    {
     "data": {
      "text/plain": [
       "[PhysicalDevice(name='/physical_device:CPU:0', device_type='CPU'),\n",
       " PhysicalDevice(name='/physical_device:GPU:0', device_type='GPU')]"
      ]
     },
     "execution_count": 2,
     "metadata": {},
     "output_type": "execute_result"
    }
   ],
   "source": [
    "tf.config.list_physical_devices(\n",
    "    device_type=None\n",
    ")"
   ]
  },
  {
   "cell_type": "code",
   "execution_count": 3,
   "id": "47795994",
   "metadata": {},
   "outputs": [],
   "source": [
    "train_path = \"cell_images\\\\cell_images\\\\train\"\n",
    "test_path  = \"cell_images\\\\cell_images\\\\test\""
   ]
  },
  {
   "cell_type": "code",
   "execution_count": 4,
   "id": "5967a7ae",
   "metadata": {},
   "outputs": [],
   "source": [
    "image_shape = (130, 130, 3)"
   ]
  },
  {
   "cell_type": "code",
   "execution_count": 5,
   "id": "dd8d2567",
   "metadata": {},
   "outputs": [],
   "source": [
    "image_gen = ImageDataGenerator(rotation_range=20, width_shift_range=0.1, height_shift_range=0.1 ,\n",
    "                               shear_range=0.1, zoom_range=0.1, horizontal_flip=True, fill_mode = 'nearest')"
   ]
  },
  {
   "cell_type": "code",
   "execution_count": 6,
   "id": "b7db01b8",
   "metadata": {},
   "outputs": [
    {
     "name": "stdout",
     "output_type": "stream",
     "text": [
      "Found 24958 images belonging to 2 classes.\n"
     ]
    },
    {
     "data": {
      "text/plain": [
       "<keras.preprocessing.image.DirectoryIterator at 0x23759383280>"
      ]
     },
     "execution_count": 6,
     "metadata": {},
     "output_type": "execute_result"
    }
   ],
   "source": [
    "image_gen.flow_from_directory(train_path)"
   ]
  },
  {
   "cell_type": "code",
   "execution_count": 7,
   "id": "49bed2ba",
   "metadata": {},
   "outputs": [
    {
     "name": "stdout",
     "output_type": "stream",
     "text": [
      "Found 2600 images belonging to 2 classes.\n"
     ]
    },
    {
     "data": {
      "text/plain": [
       "<keras.preprocessing.image.DirectoryIterator at 0x23759383190>"
      ]
     },
     "execution_count": 7,
     "metadata": {},
     "output_type": "execute_result"
    }
   ],
   "source": [
    "image_gen.flow_from_directory(test_path)"
   ]
  },
  {
   "cell_type": "code",
   "execution_count": 8,
   "id": "785bdc36",
   "metadata": {},
   "outputs": [
    {
     "name": "stdout",
     "output_type": "stream",
     "text": [
      "Found 24958 images belonging to 2 classes.\n"
     ]
    }
   ],
   "source": [
    "train_image_gen = image_gen.flow_from_directory(train_path, target_size=image_shape[:2], color_mode='rgb', batch_size=32, class_mode='binary')"
   ]
  },
  {
   "cell_type": "code",
   "execution_count": 9,
   "id": "76a6225c",
   "metadata": {},
   "outputs": [
    {
     "name": "stdout",
     "output_type": "stream",
     "text": [
      "Found 2600 images belonging to 2 classes.\n"
     ]
    }
   ],
   "source": [
    "test_image_gen = image_gen.flow_from_directory(test_path, target_size=image_shape[:2], color_mode='rgb', batch_size=32, class_mode='binary',\n",
    "                                               shuffle=False)"
   ]
  },
  {
   "cell_type": "code",
   "execution_count": 10,
   "id": "e7dbfb0d",
   "metadata": {},
   "outputs": [
    {
     "name": "stdout",
     "output_type": "stream",
     "text": [
      "Downloading data from https://storage.googleapis.com/tensorflow/keras-applications/nasnet/NASNet-large-no-top.h5\n",
      "343610240/343610240 [==============================] - 39s 0us/step\n"
     ]
    }
   ],
   "source": [
    "NASNetLarge_model = Sequential()\n",
    "\n",
    "pretrained_model= tf.keras.applications.NASNetLarge(include_top=False,\n",
    "                   input_shape=image_shape,\n",
    "                   pooling='max',classes=2,\n",
    "                   weights='imagenet')\n",
    "for layer in pretrained_model.layers:\n",
    "        layer.trainable=False\n",
    "\n",
    "NASNetLarge_model.add(pretrained_model)\n",
    "\n",
    "NASNetLarge_model.add(Flatten())\n",
    "NASNetLarge_model.add(Dense(128, activation='relu'))\n",
    "NASNetLarge_model.add(Dense(1, activation='sigmoid'))"
   ]
  },
  {
   "cell_type": "code",
   "execution_count": 11,
   "id": "036571a6",
   "metadata": {},
   "outputs": [
    {
     "name": "stdout",
     "output_type": "stream",
     "text": [
      "Model: \"sequential\"\n",
      "_________________________________________________________________\n",
      " Layer (type)                Output Shape              Param #   \n",
      "=================================================================\n",
      " NASNet (Functional)         (None, 4032)              84916818  \n",
      "                                                                 \n",
      " flatten (Flatten)           (None, 4032)              0         \n",
      "                                                                 \n",
      " dense (Dense)               (None, 128)               516224    \n",
      "                                                                 \n",
      " dense_1 (Dense)             (None, 1)                 129       \n",
      "                                                                 \n",
      "=================================================================\n",
      "Total params: 85,433,171\n",
      "Trainable params: 516,353\n",
      "Non-trainable params: 84,916,818\n",
      "_________________________________________________________________\n"
     ]
    }
   ],
   "source": [
    "NASNetLarge_model.summary()"
   ]
  },
  {
   "cell_type": "code",
   "execution_count": 12,
   "id": "fc2d34d7",
   "metadata": {},
   "outputs": [],
   "source": [
    "NASNetLarge_model.compile(optimizer=Adam(learning_rate=0.001),loss='binary_crossentropy', metrics=['accuracy'])"
   ]
  },
  {
   "cell_type": "code",
   "execution_count": 13,
   "id": "11df5d71",
   "metadata": {},
   "outputs": [],
   "source": [
    "early_stop = EarlyStopping(monitor='val_loss', patience=10)"
   ]
  },
  {
   "cell_type": "code",
   "execution_count": 14,
   "id": "1cb6fbf8",
   "metadata": {},
   "outputs": [
    {
     "name": "stdout",
     "output_type": "stream",
     "text": [
      "Epoch 1/50\n",
      "780/780 [==============================] - 240s 272ms/step - loss: 1.8737 - accuracy: 0.5689 - val_loss: 0.8675 - val_accuracy: 0.6227\n",
      "Epoch 2/50\n",
      "780/780 [==============================] - 124s 159ms/step - loss: 1.0017 - accuracy: 0.6005 - val_loss: 0.6716 - val_accuracy: 0.6565\n",
      "Epoch 3/50\n",
      "780/780 [==============================] - 105s 135ms/step - loss: 0.7160 - accuracy: 0.6254 - val_loss: 0.6370 - val_accuracy: 0.6496\n",
      "Epoch 4/50\n",
      "780/780 [==============================] - 106s 136ms/step - loss: 0.6615 - accuracy: 0.6338 - val_loss: 0.6343 - val_accuracy: 0.6569\n",
      "Epoch 5/50\n",
      "780/780 [==============================] - 113s 145ms/step - loss: 0.6278 - accuracy: 0.6531 - val_loss: 0.6066 - val_accuracy: 0.6727\n",
      "Epoch 6/50\n",
      "780/780 [==============================] - 122s 157ms/step - loss: 0.6211 - accuracy: 0.6591 - val_loss: 0.6335 - val_accuracy: 0.6373\n",
      "Epoch 7/50\n",
      "780/780 [==============================] - 118s 151ms/step - loss: 0.6266 - accuracy: 0.6475 - val_loss: 0.6307 - val_accuracy: 0.6404\n",
      "Epoch 8/50\n",
      "780/780 [==============================] - 117s 150ms/step - loss: 0.6234 - accuracy: 0.6539 - val_loss: 0.6283 - val_accuracy: 0.6450\n",
      "Epoch 9/50\n",
      "780/780 [==============================] - 123s 157ms/step - loss: 0.6222 - accuracy: 0.6586 - val_loss: 0.6329 - val_accuracy: 0.6454\n",
      "Epoch 10/50\n",
      "780/780 [==============================] - 116s 148ms/step - loss: 0.6191 - accuracy: 0.6571 - val_loss: 0.6514 - val_accuracy: 0.6369\n",
      "Epoch 11/50\n",
      "780/780 [==============================] - 116s 149ms/step - loss: 0.6187 - accuracy: 0.6588 - val_loss: 0.6205 - val_accuracy: 0.6642\n",
      "Epoch 12/50\n",
      "780/780 [==============================] - 117s 150ms/step - loss: 0.6199 - accuracy: 0.6581 - val_loss: 0.6235 - val_accuracy: 0.6635\n",
      "Epoch 13/50\n",
      "780/780 [==============================] - 119s 153ms/step - loss: 0.6137 - accuracy: 0.6636 - val_loss: 0.6094 - val_accuracy: 0.6642\n",
      "Epoch 14/50\n",
      "780/780 [==============================] - 120s 153ms/step - loss: 0.6112 - accuracy: 0.6692 - val_loss: 0.6069 - val_accuracy: 0.6619\n",
      "Epoch 15/50\n",
      "780/780 [==============================] - 116s 149ms/step - loss: 0.6094 - accuracy: 0.6705 - val_loss: 0.6196 - val_accuracy: 0.6481\n"
     ]
    },
    {
     "data": {
      "text/plain": [
       "<keras.callbacks.History at 0x23705dd1fa0>"
      ]
     },
     "execution_count": 14,
     "metadata": {},
     "output_type": "execute_result"
    }
   ],
   "source": [
    "NASNetLarge_model.fit(train_image_gen, epochs=50, validation_data=test_image_gen, callbacks=[early_stop])"
   ]
  },
  {
   "cell_type": "code",
   "execution_count": 15,
   "id": "416ed188",
   "metadata": {},
   "outputs": [],
   "source": [
    "history = pd.DataFrame(NASNetLarge_model.history.history)"
   ]
  },
  {
   "cell_type": "code",
   "execution_count": 16,
   "id": "aefd4d3c",
   "metadata": {},
   "outputs": [
    {
     "data": {
      "text/html": [
       "<div>\n",
       "<style scoped>\n",
       "    .dataframe tbody tr th:only-of-type {\n",
       "        vertical-align: middle;\n",
       "    }\n",
       "\n",
       "    .dataframe tbody tr th {\n",
       "        vertical-align: top;\n",
       "    }\n",
       "\n",
       "    .dataframe thead th {\n",
       "        text-align: right;\n",
       "    }\n",
       "</style>\n",
       "<table border=\"1\" class=\"dataframe\">\n",
       "  <thead>\n",
       "    <tr style=\"text-align: right;\">\n",
       "      <th></th>\n",
       "      <th>loss</th>\n",
       "      <th>accuracy</th>\n",
       "      <th>val_loss</th>\n",
       "      <th>val_accuracy</th>\n",
       "    </tr>\n",
       "  </thead>\n",
       "  <tbody>\n",
       "    <tr>\n",
       "      <th>0</th>\n",
       "      <td>1.873709</td>\n",
       "      <td>0.568876</td>\n",
       "      <td>0.867537</td>\n",
       "      <td>0.622692</td>\n",
       "    </tr>\n",
       "    <tr>\n",
       "      <th>1</th>\n",
       "      <td>1.001745</td>\n",
       "      <td>0.600489</td>\n",
       "      <td>0.671584</td>\n",
       "      <td>0.656538</td>\n",
       "    </tr>\n",
       "    <tr>\n",
       "      <th>2</th>\n",
       "      <td>0.715985</td>\n",
       "      <td>0.625371</td>\n",
       "      <td>0.636959</td>\n",
       "      <td>0.649615</td>\n",
       "    </tr>\n",
       "    <tr>\n",
       "      <th>3</th>\n",
       "      <td>0.661472</td>\n",
       "      <td>0.633825</td>\n",
       "      <td>0.634263</td>\n",
       "      <td>0.656923</td>\n",
       "    </tr>\n",
       "    <tr>\n",
       "      <th>4</th>\n",
       "      <td>0.627841</td>\n",
       "      <td>0.653057</td>\n",
       "      <td>0.606615</td>\n",
       "      <td>0.672692</td>\n",
       "    </tr>\n",
       "  </tbody>\n",
       "</table>\n",
       "</div>"
      ],
      "text/plain": [
       "       loss  accuracy  val_loss  val_accuracy\n",
       "0  1.873709  0.568876  0.867537      0.622692\n",
       "1  1.001745  0.600489  0.671584      0.656538\n",
       "2  0.715985  0.625371  0.636959      0.649615\n",
       "3  0.661472  0.633825  0.634263      0.656923\n",
       "4  0.627841  0.653057  0.606615      0.672692"
      ]
     },
     "execution_count": 16,
     "metadata": {},
     "output_type": "execute_result"
    }
   ],
   "source": [
    "history.head()"
   ]
  },
  {
   "cell_type": "code",
   "execution_count": 17,
   "id": "20752ad6",
   "metadata": {},
   "outputs": [
    {
     "data": {
      "image/png": "[encoded data removed]",
      "text/plain": [
       "<Figure size 640x480 with 1 Axes>"
      ]
     },
     "metadata": {},
     "output_type": "display_data"
    }
   ],
   "source": [
    "history[[\"loss\", \"val_loss\"]].plot()\n",
    "plt.xlabel(\"Number of Epochs\")\n",
    "plt.ylabel(\"Loss\")\n",
    "plt.title(\"Loss vs Epochs\")\n",
    "plt.savefig('LossVsEpochsNNL.png')\n",
    "plt.show()"
   ]
  },
  {
   "cell_type": "code",
   "execution_count": 18,
   "id": "47ce9b9d",
   "metadata": {},
   "outputs": [
    {
     "data": {
      "image/png": "[encoded data removed]",
      "text/plain": [
       "<Figure size 640x480 with 1 Axes>"
      ]
     },
     "metadata": {},
     "output_type": "display_data"
    }
   ],
   "source": [
    "history[['accuracy', 'val_accuracy']].plot()\n",
    "plt.xlabel(\"Number of Epochs\")\n",
    "plt.ylabel(\"Accuracy\")\n",
    "plt.title(\"Accuracy vs Epochs\")\n",
    "plt.savefig('AccuracyvsEpochsNNL.png')\n",
    "plt.show()"
   ]
  },
  {
   "cell_type": "code",
   "execution_count": 19,
   "id": "5bb19c6d",
   "metadata": {},
   "outputs": [
    {
     "name": "stdout",
     "output_type": "stream",
     "text": [
      "82/82 [==============================] - 16s 131ms/step\n"
     ]
    }
   ],
   "source": [
    "predictions = NASNetLarge_model.predict(test_image_gen)"
   ]
  },
  {
   "cell_type": "code",
   "execution_count": 20,
   "id": "d98c088d",
   "metadata": {},
   "outputs": [],
   "source": [
    "predictions = predictions >= 0.5"
   ]
  },
  {
   "cell_type": "code",
   "execution_count": 21,
   "id": "558fe7d9",
   "metadata": {},
   "outputs": [
    {
     "name": "stdout",
     "output_type": "stream",
     "text": [
      "              precision    recall  f1-score   support\n",
      "\n",
      "           0       0.75      0.50      0.60      1300\n",
      "           1       0.62      0.83      0.71      1300\n",
      "\n",
      "    accuracy                           0.67      2600\n",
      "   macro avg       0.69      0.67      0.66      2600\n",
      "weighted avg       0.69      0.67      0.66      2600\n",
      "\n"
     ]
    }
   ],
   "source": [
    "print(classification_report(test_image_gen.classes, predictions))"
   ]
  },
  {
   "cell_type": "code",
   "execution_count": 22,
   "id": "2ef32e84",
   "metadata": {},
   "outputs": [
    {
     "data": {
      "text/plain": [
       "array([[ 648,  652],\n",
       "       [ 219, 1081]], dtype=int64)"
      ]
     },
     "execution_count": 22,
     "metadata": {},
     "output_type": "execute_result"
    }
   ],
   "source": [
    "confusion_matrix(test_image_gen.classes, predictions)"
   ]
  },
  {
   "cell_type": "code",
   "execution_count": 23,
   "id": "19c9df74",
   "metadata": {},
   "outputs": [
    {
     "data": {
      "image/png": "[encoded data removed]",
      "text/plain": [
       "<Figure size 640x480 with 2 Axes>"
      ]
     },
     "metadata": {},
     "output_type": "display_data"
    }
   ],
   "source": [
    "import seaborn as sns\n",
    "DetaFrame_cm = pd.DataFrame(confusion_matrix(test_image_gen.classes, predictions), range(2), range(2))\n",
    "sns.heatmap(DetaFrame_cm, annot=True)\n",
    "plt.title(\"Confusion Matrix\")\n",
    "plt.savefig('ConfusionMatrixHeatmapNNL.png')\n",
    "plt.show()"
   ]
  },
  {
   "cell_type": "code",
   "execution_count": 24,
   "id": "2e0282b8",
   "metadata": {},
   "outputs": [],
   "source": [
    "NASNetLarge_model.save(\"MalariaPredictionsNNL.h5\")"
   ]
  }
 ],
 "metadata": {
  "kernelspec": {
   "display_name": "Python 3 (ipykernel)",
   "language": "python",
   "name": "python3"
  },
  "language_info": {
   "codemirror_mode": {
    "name": "ipython",
    "version": 3
   },
   "file_extension": ".py",
   "mimetype": "text/x-python",
   "name": "python",
   "nbconvert_exporter": "python",
   "pygments_lexer": "ipython3",
   "version": "3.9.13"
  }
 },
 "nbformat": 4,
 "nbformat_minor": 5
}
