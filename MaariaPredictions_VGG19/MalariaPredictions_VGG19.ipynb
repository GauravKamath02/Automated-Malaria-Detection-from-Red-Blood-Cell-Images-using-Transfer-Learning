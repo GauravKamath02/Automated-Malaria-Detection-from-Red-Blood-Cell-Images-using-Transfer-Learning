{
 "cells": [
  {
   "cell_type": "code",
   "execution_count": 1,
   "id": "a07e5972",
   "metadata": {},
   "outputs": [],
   "source": [
    "import matplotlib.pyplot as plt\n",
    "import numpy as np\n",
    "import PIL\n",
    "import tensorflow as tf\n",
    "from tensorflow.keras.layers import Dense,Flatten\n",
    "from tensorflow.keras.models import Sequential\n",
    "from tensorflow.keras.optimizers import Adam\n",
    "from tensorflow.keras.preprocessing.image import ImageDataGenerator\n",
    "from tensorflow.keras.callbacks import EarlyStopping\n",
    "import warnings\n",
    "import pandas as pd\n",
    "import seaborn as sns\n",
    "from sklearn.metrics import confusion_matrix, classification_report\n",
    "warnings.filterwarnings(\"ignore\")"
   ]
  },
  {
   "cell_type": "code",
   "execution_count": 2,
   "id": "174ff04c",
   "metadata": {},
   "outputs": [
    {
     "data": {
      "text/plain": [
       "[PhysicalDevice(name='/physical_device:CPU:0', device_type='CPU'),\n",
       " PhysicalDevice(name='/physical_device:GPU:0', device_type='GPU')]"
      ]
     },
     "execution_count": 2,
     "metadata": {},
     "output_type": "execute_result"
    }
   ],
   "source": [
    "tf.config.list_physical_devices(\n",
    "    device_type=None\n",
    ")"
   ]
  },
  {
   "cell_type": "code",
   "execution_count": 3,
   "id": "47795994",
   "metadata": {},
   "outputs": [],
   "source": [
    "train_path = \"D:\\\\MalariaDetection\\\\Cell_Images\\\\cell_images\\\\train\"\n",
    "test_path  = \"D:\\\\MalariaDetection\\\\Cell_Images\\\\cell_images\\\\test\""
   ]
  },
  {
   "cell_type": "code",
   "execution_count": 4,
   "id": "5967a7ae",
   "metadata": {},
   "outputs": [],
   "source": [
    "image_shape = (130, 130, 3)"
   ]
  },
  {
   "cell_type": "code",
   "execution_count": 5,
   "id": "dd8d2567",
   "metadata": {},
   "outputs": [],
   "source": [
    "image_gen = ImageDataGenerator(rotation_range=20, width_shift_range=0.1, height_shift_range=0.1 ,\n",
    "                               shear_range=0.1, zoom_range=0.1, horizontal_flip=True, fill_mode = 'nearest')"
   ]
  },
  {
   "cell_type": "code",
   "execution_count": 6,
   "id": "b7db01b8",
   "metadata": {},
   "outputs": [
    {
     "name": "stdout",
     "output_type": "stream",
     "text": [
      "Found 24958 images belonging to 2 classes.\n"
     ]
    },
    {
     "data": {
      "text/plain": [
       "<keras.preprocessing.image.DirectoryIterator at 0x25d945d4760>"
      ]
     },
     "execution_count": 6,
     "metadata": {},
     "output_type": "execute_result"
    }
   ],
   "source": [
    "image_gen.flow_from_directory(train_path)"
   ]
  },
  {
   "cell_type": "code",
   "execution_count": 7,
   "id": "49bed2ba",
   "metadata": {},
   "outputs": [
    {
     "name": "stdout",
     "output_type": "stream",
     "text": [
      "Found 2600 images belonging to 2 classes.\n"
     ]
    },
    {
     "data": {
      "text/plain": [
       "<keras.preprocessing.image.DirectoryIterator at 0x25dddbe4520>"
      ]
     },
     "execution_count": 7,
     "metadata": {},
     "output_type": "execute_result"
    }
   ],
   "source": [
    "image_gen.flow_from_directory(test_path)"
   ]
  },
  {
   "cell_type": "code",
   "execution_count": 8,
   "id": "785bdc36",
   "metadata": {},
   "outputs": [
    {
     "name": "stdout",
     "output_type": "stream",
     "text": [
      "Found 24958 images belonging to 2 classes.\n"
     ]
    }
   ],
   "source": [
    "train_image_gen = image_gen.flow_from_directory(train_path, target_size=image_shape[:2], color_mode='rgb', batch_size=32, class_mode='binary')"
   ]
  },
  {
   "cell_type": "code",
   "execution_count": 9,
   "id": "76a6225c",
   "metadata": {},
   "outputs": [
    {
     "name": "stdout",
     "output_type": "stream",
     "text": [
      "Found 2600 images belonging to 2 classes.\n"
     ]
    }
   ],
   "source": [
    "test_image_gen = image_gen.flow_from_directory(test_path, target_size=image_shape[:2], color_mode='rgb', batch_size=32, class_mode='binary',\n",
    "                                               shuffle=False)"
   ]
  },
  {
   "cell_type": "code",
   "execution_count": 10,
   "id": "e7dbfb0d",
   "metadata": {},
   "outputs": [],
   "source": [
    "VGG19_model = Sequential()\n",
    "\n",
    "pretrained_model = tf.keras.applications.VGG19(include_top=False,\n",
    "                   input_shape=image_shape,\n",
    "                   pooling='max',classes=2,\n",
    "                   weights='imagenet')\n",
    "for layer in pretrained_model.layers:\n",
    "        layer.trainable=False\n",
    "\n",
    "VGG19_model.add(pretrained_model)\n",
    "\n",
    "VGG19_model.add(Flatten())\n",
    "VGG19_model.add(Dense(128, activation='relu'))\n",
    "VGG19_model.add(Dense(1, activation='sigmoid'))"
   ]
  },
  {
   "cell_type": "code",
   "execution_count": 11,
   "id": "036571a6",
   "metadata": {},
   "outputs": [
    {
     "name": "stdout",
     "output_type": "stream",
     "text": [
      "Model: \"sequential\"\n",
      "_________________________________________________________________\n",
      " Layer (type)                Output Shape              Param #   \n",
      "=================================================================\n",
      " vgg19 (Functional)          (None, 512)               20024384  \n",
      "                                                                 \n",
      " flatten (Flatten)           (None, 512)               0         \n",
      "                                                                 \n",
      " dense (Dense)               (None, 128)               65664     \n",
      "                                                                 \n",
      " dense_1 (Dense)             (None, 1)                 129       \n",
      "                                                                 \n",
      "=================================================================\n",
      "Total params: 20,090,177\n",
      "Trainable params: 65,793\n",
      "Non-trainable params: 20,024,384\n",
      "_________________________________________________________________\n"
     ]
    }
   ],
   "source": [
    "VGG19_model.summary()"
   ]
  },
  {
   "cell_type": "code",
   "execution_count": 12,
   "id": "fc2d34d7",
   "metadata": {},
   "outputs": [],
   "source": [
    "VGG19_model.compile(optimizer=Adam(learning_rate=0.001),loss='binary_crossentropy', metrics=['accuracy'])"
   ]
  },
  {
   "cell_type": "code",
   "execution_count": 13,
   "id": "11df5d71",
   "metadata": {},
   "outputs": [],
   "source": [
    "early_stop = EarlyStopping(monitor='val_loss', patience=10)"
   ]
  },
  {
   "cell_type": "code",
   "execution_count": 14,
   "id": "1cb6fbf8",
   "metadata": {},
   "outputs": [
    {
     "name": "stdout",
     "output_type": "stream",
     "text": [
      "Epoch 1/50\n",
      "780/780 [==============================] - 82s 99ms/step - loss: 0.6933 - accuracy: 0.9003 - val_loss: 0.3532 - val_accuracy: 0.9223\n",
      "Epoch 2/50\n",
      "780/780 [==============================] - 73s 94ms/step - loss: 0.2703 - accuracy: 0.9219 - val_loss: 0.2058 - val_accuracy: 0.9315\n",
      "Epoch 3/50\n",
      "780/780 [==============================] - 74s 95ms/step - loss: 0.2014 - accuracy: 0.9324 - val_loss: 0.1892 - val_accuracy: 0.9350\n",
      "Epoch 4/50\n",
      "780/780 [==============================] - 74s 95ms/step - loss: 0.1817 - accuracy: 0.9365 - val_loss: 0.1680 - val_accuracy: 0.9350\n",
      "Epoch 5/50\n",
      "780/780 [==============================] - 74s 95ms/step - loss: 0.1669 - accuracy: 0.9412 - val_loss: 0.1751 - val_accuracy: 0.9396\n",
      "Epoch 6/50\n",
      "780/780 [==============================] - 74s 95ms/step - loss: 0.1643 - accuracy: 0.9413 - val_loss: 0.1846 - val_accuracy: 0.9281\n",
      "Epoch 7/50\n",
      "780/780 [==============================] - 74s 95ms/step - loss: 0.1660 - accuracy: 0.9412 - val_loss: 0.1838 - val_accuracy: 0.9312\n",
      "Epoch 8/50\n",
      "780/780 [==============================] - 75s 97ms/step - loss: 0.1611 - accuracy: 0.9427 - val_loss: 0.1682 - val_accuracy: 0.9373\n",
      "Epoch 9/50\n",
      "780/780 [==============================] - 75s 96ms/step - loss: 0.1543 - accuracy: 0.9451 - val_loss: 0.1627 - val_accuracy: 0.9404\n",
      "Epoch 10/50\n",
      "780/780 [==============================] - 77s 99ms/step - loss: 0.1565 - accuracy: 0.9452 - val_loss: 0.1609 - val_accuracy: 0.9412\n",
      "Epoch 11/50\n",
      "780/780 [==============================] - 74s 95ms/step - loss: 0.1588 - accuracy: 0.9437 - val_loss: 0.1717 - val_accuracy: 0.9358\n",
      "Epoch 12/50\n",
      "780/780 [==============================] - 74s 95ms/step - loss: 0.1542 - accuracy: 0.9437 - val_loss: 0.1546 - val_accuracy: 0.9400\n",
      "Epoch 13/50\n",
      "780/780 [==============================] - 75s 96ms/step - loss: 0.1523 - accuracy: 0.9453 - val_loss: 0.1570 - val_accuracy: 0.9419\n",
      "Epoch 14/50\n",
      "780/780 [==============================] - 74s 95ms/step - loss: 0.1524 - accuracy: 0.9447 - val_loss: 0.1580 - val_accuracy: 0.9419\n",
      "Epoch 15/50\n",
      "780/780 [==============================] - 74s 95ms/step - loss: 0.1498 - accuracy: 0.9474 - val_loss: 0.1528 - val_accuracy: 0.9446\n",
      "Epoch 16/50\n",
      "780/780 [==============================] - 76s 97ms/step - loss: 0.1516 - accuracy: 0.9459 - val_loss: 0.1530 - val_accuracy: 0.9408\n",
      "Epoch 17/50\n",
      "780/780 [==============================] - 75s 96ms/step - loss: 0.1502 - accuracy: 0.9473 - val_loss: 0.1655 - val_accuracy: 0.9385\n",
      "Epoch 18/50\n",
      "780/780 [==============================] - 74s 95ms/step - loss: 0.1477 - accuracy: 0.9475 - val_loss: 0.1645 - val_accuracy: 0.9423\n",
      "Epoch 19/50\n",
      "780/780 [==============================] - 75s 97ms/step - loss: 0.1486 - accuracy: 0.9487 - val_loss: 0.1595 - val_accuracy: 0.9385\n",
      "Epoch 20/50\n",
      "780/780 [==============================] - 76s 97ms/step - loss: 0.1520 - accuracy: 0.9469 - val_loss: 0.1666 - val_accuracy: 0.9396\n",
      "Epoch 21/50\n",
      "780/780 [==============================] - 75s 96ms/step - loss: 0.1444 - accuracy: 0.9492 - val_loss: 0.1608 - val_accuracy: 0.9415\n",
      "Epoch 22/50\n",
      "780/780 [==============================] - 74s 95ms/step - loss: 0.1470 - accuracy: 0.9482 - val_loss: 0.1521 - val_accuracy: 0.9427\n",
      "Epoch 23/50\n",
      "780/780 [==============================] - 74s 95ms/step - loss: 0.1460 - accuracy: 0.9481 - val_loss: 0.1543 - val_accuracy: 0.9419\n",
      "Epoch 24/50\n",
      "780/780 [==============================] - 76s 97ms/step - loss: 0.1455 - accuracy: 0.9488 - val_loss: 0.1604 - val_accuracy: 0.9423\n",
      "Epoch 25/50\n",
      "780/780 [==============================] - 75s 95ms/step - loss: 0.1459 - accuracy: 0.9484 - val_loss: 0.1693 - val_accuracy: 0.9404\n",
      "Epoch 26/50\n",
      "780/780 [==============================] - 79s 101ms/step - loss: 0.1417 - accuracy: 0.9480 - val_loss: 0.1535 - val_accuracy: 0.9435\n",
      "Epoch 27/50\n",
      "780/780 [==============================] - 75s 96ms/step - loss: 0.1468 - accuracy: 0.9470 - val_loss: 0.1473 - val_accuracy: 0.9419\n",
      "Epoch 28/50\n",
      "780/780 [==============================] - 76s 97ms/step - loss: 0.1429 - accuracy: 0.9485 - val_loss: 0.1483 - val_accuracy: 0.9442\n",
      "Epoch 29/50\n",
      "780/780 [==============================] - 75s 97ms/step - loss: 0.1442 - accuracy: 0.9488 - val_loss: 0.1641 - val_accuracy: 0.9415\n",
      "Epoch 30/50\n",
      "780/780 [==============================] - 75s 96ms/step - loss: 0.1416 - accuracy: 0.9490 - val_loss: 0.1583 - val_accuracy: 0.9415\n",
      "Epoch 31/50\n",
      "780/780 [==============================] - 76s 97ms/step - loss: 0.1411 - accuracy: 0.9490 - val_loss: 0.1616 - val_accuracy: 0.9400\n",
      "Epoch 32/50\n",
      "780/780 [==============================] - 76s 97ms/step - loss: 0.1416 - accuracy: 0.9502 - val_loss: 0.1615 - val_accuracy: 0.9419\n",
      "Epoch 33/50\n",
      "780/780 [==============================] - 75s 95ms/step - loss: 0.1409 - accuracy: 0.9504 - val_loss: 0.1510 - val_accuracy: 0.9481\n",
      "Epoch 34/50\n",
      "780/780 [==============================] - 74s 95ms/step - loss: 0.1439 - accuracy: 0.9488 - val_loss: 0.1680 - val_accuracy: 0.9373\n",
      "Epoch 35/50\n",
      "780/780 [==============================] - 74s 95ms/step - loss: 0.1439 - accuracy: 0.9490 - val_loss: 0.1455 - val_accuracy: 0.9454\n",
      "Epoch 36/50\n",
      "780/780 [==============================] - 75s 96ms/step - loss: 0.1399 - accuracy: 0.9498 - val_loss: 0.1522 - val_accuracy: 0.9446\n",
      "Epoch 37/50\n",
      "780/780 [==============================] - 75s 96ms/step - loss: 0.1394 - accuracy: 0.9511 - val_loss: 0.1429 - val_accuracy: 0.9488\n",
      "Epoch 38/50\n",
      "780/780 [==============================] - 74s 95ms/step - loss: 0.1403 - accuracy: 0.9504 - val_loss: 0.1755 - val_accuracy: 0.9388\n",
      "Epoch 39/50\n",
      "780/780 [==============================] - 74s 95ms/step - loss: 0.1392 - accuracy: 0.9498 - val_loss: 0.1541 - val_accuracy: 0.9438\n",
      "Epoch 40/50\n",
      "780/780 [==============================] - 75s 96ms/step - loss: 0.1365 - accuracy: 0.9516 - val_loss: 0.1618 - val_accuracy: 0.9412\n",
      "Epoch 41/50\n",
      "780/780 [==============================] - 75s 96ms/step - loss: 0.1387 - accuracy: 0.9503 - val_loss: 0.1611 - val_accuracy: 0.9400\n",
      "Epoch 42/50\n",
      "780/780 [==============================] - 75s 96ms/step - loss: 0.1393 - accuracy: 0.9512 - val_loss: 0.1711 - val_accuracy: 0.9412\n",
      "Epoch 43/50\n",
      "780/780 [==============================] - 75s 96ms/step - loss: 0.1397 - accuracy: 0.9519 - val_loss: 0.1613 - val_accuracy: 0.9419\n",
      "Epoch 44/50\n",
      "780/780 [==============================] - 75s 96ms/step - loss: 0.1421 - accuracy: 0.9486 - val_loss: 0.1478 - val_accuracy: 0.9446\n",
      "Epoch 45/50\n",
      "780/780 [==============================] - 75s 96ms/step - loss: 0.1414 - accuracy: 0.9483 - val_loss: 0.1381 - val_accuracy: 0.9458\n",
      "Epoch 46/50\n",
      "780/780 [==============================] - 77s 98ms/step - loss: 0.1360 - accuracy: 0.9511 - val_loss: 0.1510 - val_accuracy: 0.9415\n",
      "Epoch 47/50\n",
      "780/780 [==============================] - 76s 97ms/step - loss: 0.1415 - accuracy: 0.9500 - val_loss: 0.1560 - val_accuracy: 0.9462\n",
      "Epoch 48/50\n",
      "780/780 [==============================] - 75s 96ms/step - loss: 0.1378 - accuracy: 0.9504 - val_loss: 0.1532 - val_accuracy: 0.9423\n",
      "Epoch 49/50\n",
      "780/780 [==============================] - 75s 97ms/step - loss: 0.1403 - accuracy: 0.9497 - val_loss: 0.1541 - val_accuracy: 0.9435\n",
      "Epoch 50/50\n",
      "780/780 [==============================] - 75s 96ms/step - loss: 0.1383 - accuracy: 0.9506 - val_loss: 0.1522 - val_accuracy: 0.9392\n"
     ]
    },
    {
     "data": {
      "text/plain": [
       "<keras.callbacks.History at 0x25d945d4cd0>"
      ]
     },
     "execution_count": 14,
     "metadata": {},
     "output_type": "execute_result"
    }
   ],
   "source": [
    "VGG19_model.fit(train_image_gen, epochs=50, validation_data=test_image_gen, callbacks=[early_stop])"
   ]
  },
  {
   "cell_type": "code",
   "execution_count": 15,
   "id": "416ed188",
   "metadata": {},
   "outputs": [],
   "source": [
    "history = pd.DataFrame(VGG19_model.history.history)"
   ]
  },
  {
   "cell_type": "code",
   "execution_count": 16,
   "id": "aefd4d3c",
   "metadata": {},
   "outputs": [
    {
     "data": {
      "text/html": [
       "<div>\n",
       "<style scoped>\n",
       "    .dataframe tbody tr th:only-of-type {\n",
       "        vertical-align: middle;\n",
       "    }\n",
       "\n",
       "    .dataframe tbody tr th {\n",
       "        vertical-align: top;\n",
       "    }\n",
       "\n",
       "    .dataframe thead th {\n",
       "        text-align: right;\n",
       "    }\n",
       "</style>\n",
       "<table border=\"1\" class=\"dataframe\">\n",
       "  <thead>\n",
       "    <tr style=\"text-align: right;\">\n",
       "      <th></th>\n",
       "      <th>loss</th>\n",
       "      <th>accuracy</th>\n",
       "      <th>val_loss</th>\n",
       "      <th>val_accuracy</th>\n",
       "    </tr>\n",
       "  </thead>\n",
       "  <tbody>\n",
       "    <tr>\n",
       "      <th>0</th>\n",
       "      <td>0.693303</td>\n",
       "      <td>0.900272</td>\n",
       "      <td>0.353186</td>\n",
       "      <td>0.922308</td>\n",
       "    </tr>\n",
       "    <tr>\n",
       "      <th>1</th>\n",
       "      <td>0.270268</td>\n",
       "      <td>0.921909</td>\n",
       "      <td>0.205819</td>\n",
       "      <td>0.931538</td>\n",
       "    </tr>\n",
       "    <tr>\n",
       "      <th>2</th>\n",
       "      <td>0.201376</td>\n",
       "      <td>0.932406</td>\n",
       "      <td>0.189198</td>\n",
       "      <td>0.935000</td>\n",
       "    </tr>\n",
       "    <tr>\n",
       "      <th>3</th>\n",
       "      <td>0.181657</td>\n",
       "      <td>0.936453</td>\n",
       "      <td>0.168032</td>\n",
       "      <td>0.935000</td>\n",
       "    </tr>\n",
       "    <tr>\n",
       "      <th>4</th>\n",
       "      <td>0.166871</td>\n",
       "      <td>0.941181</td>\n",
       "      <td>0.175119</td>\n",
       "      <td>0.939615</td>\n",
       "    </tr>\n",
       "  </tbody>\n",
       "</table>\n",
       "</div>"
      ],
      "text/plain": [
       "       loss  accuracy  val_loss  val_accuracy\n",
       "0  0.693303  0.900272  0.353186      0.922308\n",
       "1  0.270268  0.921909  0.205819      0.931538\n",
       "2  0.201376  0.932406  0.189198      0.935000\n",
       "3  0.181657  0.936453  0.168032      0.935000\n",
       "4  0.166871  0.941181  0.175119      0.939615"
      ]
     },
     "execution_count": 16,
     "metadata": {},
     "output_type": "execute_result"
    }
   ],
   "source": [
    "history.head()"
   ]
  },
  {
   "cell_type": "code",
   "execution_count": 17,
   "id": "20752ad6",
   "metadata": {},
   "outputs": [
    {
     "data": {
      "image/png": "[encoded data removed]",
      "text/plain": [
       "<Figure size 640x480 with 1 Axes>"
      ]
     },
     "metadata": {},
     "output_type": "display_data"
    }
   ],
   "source": [
    "history[[\"loss\", \"val_loss\"]].plot()\n",
    "plt.xlabel(\"Number of Epochs\")\n",
    "plt.ylabel(\"Loss\")\n",
    "plt.title(\"Loss vs Epochs\")\n",
    "plt.savefig('LossVsEpochsVGG19.png')\n",
    "plt.show()"
   ]
  },
  {
   "cell_type": "code",
   "execution_count": 18,
   "id": "47ce9b9d",
   "metadata": {},
   "outputs": [
    {
     "data": {
      "image/png": "[encoded data removed]",
      "text/plain": [
       "<Figure size 640x480 with 1 Axes>"
      ]
     },
     "metadata": {},
     "output_type": "display_data"
    }
   ],
   "source": [
    "history[['accuracy', 'val_accuracy']].plot()\n",
    "plt.xlabel(\"Number of Epochs\")\n",
    "plt.ylabel(\"Accuracy\")\n",
    "plt.title(\"Accuracy vs Epochs\")\n",
    "plt.savefig('AccuracyvsEpochsVGG19.png')\n",
    "plt.show()"
   ]
  },
  {
   "cell_type": "code",
   "execution_count": 19,
   "id": "5bb19c6d",
   "metadata": {},
   "outputs": [
    {
     "name": "stdout",
     "output_type": "stream",
     "text": [
      "82/82 [==============================] - 7s 87ms/step\n"
     ]
    }
   ],
   "source": [
    "predictions = VGG19_model.predict(test_image_gen)"
   ]
  },
  {
   "cell_type": "code",
   "execution_count": 20,
   "id": "d98c088d",
   "metadata": {},
   "outputs": [],
   "source": [
    "predictions = predictions >= 0.5"
   ]
  },
  {
   "cell_type": "code",
   "execution_count": 21,
   "id": "558fe7d9",
   "metadata": {},
   "outputs": [
    {
     "name": "stdout",
     "output_type": "stream",
     "text": [
      "              precision    recall  f1-score   support\n",
      "\n",
      "           0       0.95      0.95      0.95      1300\n",
      "           1       0.95      0.95      0.95      1300\n",
      "\n",
      "    accuracy                           0.95      2600\n",
      "   macro avg       0.95      0.95      0.95      2600\n",
      "weighted avg       0.95      0.95      0.95      2600\n",
      "\n"
     ]
    }
   ],
   "source": [
    "print(classification_report(test_image_gen.classes, predictions))"
   ]
  },
  {
   "cell_type": "code",
   "execution_count": 22,
   "id": "2ef32e84",
   "metadata": {},
   "outputs": [
    {
     "data": {
      "text/plain": [
       "array([[1232,   68],\n",
       "       [  68, 1232]], dtype=int64)"
      ]
     },
     "execution_count": 22,
     "metadata": {},
     "output_type": "execute_result"
    }
   ],
   "source": [
    "confusion_matrix(test_image_gen.classes, predictions)"
   ]
  },
  {
   "cell_type": "code",
   "execution_count": 23,
   "id": "19c9df74",
   "metadata": {},
   "outputs": [
    {
     "data": {
      "image/png": "[encoded data removed]",
      "text/plain": [
       "<Figure size 640x480 with 2 Axes>"
      ]
     },
     "metadata": {},
     "output_type": "display_data"
    }
   ],
   "source": [
    "DetaFrame_cm = pd.DataFrame(confusion_matrix(test_image_gen.classes, predictions), range(2), range(2))\n",
    "sns.heatmap(DetaFrame_cm, annot=True)\n",
    "plt.title(\"Confusion Matrix\")\n",
    "plt.savefig('ConfusionMatrixHeatmapVGG19.png')\n",
    "plt.show()"
   ]
  },
  {
   "cell_type": "code",
   "execution_count": 25,
   "id": "2e0282b8",
   "metadata": {},
   "outputs": [],
   "source": [
    "VGG19_model.save(\"MalariaPredictionsVGG19.h5\")"
   ]
  },
  {
   "cell_type": "code",
   "execution_count": null,
   "id": "54217a21",
   "metadata": {},
   "outputs": [],
   "source": []
  }
 ],
 "metadata": {
  "kernelspec": {
   "display_name": "Python 3 (ipykernel)",
   "language": "python",
   "name": "python3"
  },
  "language_info": {
   "codemirror_mode": {
    "name": "ipython",
    "version": 3
   },
   "file_extension": ".py",
   "mimetype": "text/x-python",
   "name": "python",
   "nbconvert_exporter": "python",
   "pygments_lexer": "ipython3",
   "version": "3.9.12"
  }
 },
 "nbformat": 4,
 "nbformat_minor": 5
}
